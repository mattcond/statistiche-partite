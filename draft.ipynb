{
 "cells": [
  {
   "cell_type": "code",
   "execution_count": null,
   "metadata": {},
   "outputs": [],
   "source": [
    "# https://www.statistichesulcalcio.com/confronto_squadre_u.php"
   ]
  },
  {
   "cell_type": "code",
   "execution_count": null,
   "metadata": {},
   "outputs": [],
   "source": [
    "from bs4 import BeautifulSoup\n",
    "\n",
    "from selenium import webdriver\n",
    "from selenium.webdriver.common.keys import Keys\n",
    "from selenium.webdriver.support.ui import WebDriverWait\n",
    "from selenium.webdriver.chrome.options import Options\n",
    "from selenium.webdriver.support import expected_conditions as EC\n",
    "from selenium.webdriver.common.by import By\n",
    "from selenium.common.exceptions import TimeoutException\n",
    "\n",
    "from models import *\n",
    "from logger import get_logger\n",
    "from datetime import datetime\n",
    "\n",
    "import urllib.request\n",
    "import re\n",
    "import time\n",
    "import sys\n",
    "import pandas as pd"
   ]
  },
  {
   "cell_type": "code",
   "execution_count": null,
   "metadata": {},
   "outputs": [],
   "source": [
    "logger = get_logger('StatistichePartite')"
   ]
  },
  {
   "cell_type": "code",
   "execution_count": 3,
   "metadata": {},
   "outputs": [],
   "source": [
    "url = 'https://www.statistichesulcalcio.com/confronto_squadre_u.php'\n",
    "evento = 'U2.5'"
   ]
  },
  {
   "cell_type": "raw",
   "metadata": {},
   "source": [
    "db.create_tables([Statistiche, Risultati])"
   ]
  },
  {
   "cell_type": "code",
   "execution_count": 4,
   "metadata": {},
   "outputs": [],
   "source": [
    "now = (datetime.now()).strftime('%Y-%m-%d')\n",
    "\n",
    "current_ts_run = datetime.now().strftime('%Y-%m-%d %H:%M:%S')"
   ]
  },
  {
   "cell_type": "code",
   "execution_count": 5,
   "metadata": {},
   "outputs": [
    {
     "name": "stderr",
     "output_type": "stream",
     "text": [
      "[2021-02-18 23:31:51,972]:[StatistichePartite]:[<module>]:[INFO]: +-----------------------------+\n",
      "[2021-02-18 23:31:51,976]:[StatistichePartite]:[<module>]:[INFO]: | STARTING StatistichePartite |\n",
      "[2021-02-18 23:31:51,978]:[StatistichePartite]:[<module>]:[INFO]: +-----------------------------+\n"
     ]
    }
   ],
   "source": [
    "logger.info(\"+-----------------------------+\")\n",
    "logger.info(\"| STARTING StatistichePartite |\")\n",
    "logger.info(\"+-----------------------------+\")"
   ]
  },
  {
   "cell_type": "code",
   "execution_count": 6,
   "metadata": {},
   "outputs": [],
   "source": [
    "chrome_options = Options()\n",
    "chrome_options.add_argument(\"--headless\")\n",
    "chrome_options.add_argument(\"--incognito\")\n",
    "chrome_options.add_argument(\"--window-size=1920,1080\")"
   ]
  },
  {
   "cell_type": "code",
   "execution_count": 7,
   "metadata": {},
   "outputs": [
    {
     "name": "stderr",
     "output_type": "stream",
     "text": [
      "[2021-02-18 23:31:53,558]:[StatistichePartite]:[<module>]:[INFO]: Avvio Selenium Chrome\n",
      "/opt/jupyterhub/lib/python3.6/site-packages/ipykernel_launcher.py:3: DeprecationWarning: use options instead of chrome_options\n",
      "  This is separate from the ipykernel package so we can avoid doing imports until\n"
     ]
    }
   ],
   "source": [
    "try:\n",
    "    logger.info('Avvio Selenium Chrome')\n",
    "    driver = webdriver.Chrome(executable_path='./chromedriver', chrome_options=chrome_options)\n",
    "\n",
    "except Exception as e:\n",
    "    \n",
    "    logger.error(e)\n",
    "    raise"
   ]
  },
  {
   "cell_type": "code",
   "execution_count": 8,
   "metadata": {},
   "outputs": [
    {
     "name": "stderr",
     "output_type": "stream",
     "text": [
      "[2021-02-18 23:31:55,771]:[StatistichePartite]:[<module>]:[INFO]: Navigo https://www.statistichesulcalcio.com/confronto_squadre_u.php\n"
     ]
    }
   ],
   "source": [
    "logger.info('Navigo %s' % (url,))\n",
    "driver.get(url)"
   ]
  },
  {
   "cell_type": "code",
   "execution_count": 9,
   "metadata": {},
   "outputs": [
    {
     "name": "stderr",
     "output_type": "stream",
     "text": [
      "[2021-02-18 23:31:58,682]:[StatistichePartite]:[<module>]:[INFO]: Estraggo la tabella delle statistiche\n"
     ]
    }
   ],
   "source": [
    "try:\n",
    "    logger.info('Estraggo la tabella delle statistiche')\n",
    "\n",
    "    table_node = driver.find_element_by_id('modificante')\n",
    "    table = table_node.get_attribute('innerHTML')\n",
    "    table_soup = BeautifulSoup(table, 'lxml')\n",
    "except Exception as e:\n",
    "    \n",
    "    logger.error(e)\n",
    "    "
   ]
  },
  {
   "cell_type": "code",
   "execution_count": 10,
   "metadata": {},
   "outputs": [
    {
     "name": "stderr",
     "output_type": "stream",
     "text": [
      "[2021-02-18 23:31:59,150]:[StatistichePartite]:[<module>]:[INFO]: Parsing della tabella delle statistiche\n"
     ]
    }
   ],
   "source": [
    "try:\n",
    "\n",
    "    logger.info('Parsing della tabella delle statistiche')\n",
    "    stat = (pd.read_html(table)[0])\n",
    "    stat = stat[stat['POS'].str.match(r'^[0-9]+$')]\n",
    "    stat = stat[['CAMPIONATO', 'SQUADRA', '%', 'AGGIOR']]\n",
    "\n",
    "    stat.columns = ['campionato', 'squadra', 'performance', 'data_aggiornamento']\n",
    "\n",
    "    stat['evento'] = evento\n",
    "    stat['data_run'] = current_ts_run\n",
    "\n",
    "except Exception as e:\n",
    "    \n",
    "    logger.error(e)\n",
    "    "
   ]
  },
  {
   "cell_type": "code",
   "execution_count": 11,
   "metadata": {},
   "outputs": [
    {
     "name": "stderr",
     "output_type": "stream",
     "text": [
      "[2021-02-18 23:32:00,295]:[StatistichePartite]:[<module>]:[INFO]: Inserisco le statistiche in tabella\n",
      "/opt/jupyterhub/lib/python3.6/site-packages/pymysql/cursors.py:170: Warning: (1265, \"Data truncated for column 'performance' at row 1\")\n",
      "  result = self._query(query)\n"
     ]
    }
   ],
   "source": [
    "logger.info('Inserisco le statistiche in tabella')\n",
    "\n",
    "for ix, item in stat.to_dict('index').items():\n",
    "    \n",
    "    try:\n",
    "        \n",
    "        Statistiche.create(**item)\n",
    "        \n",
    "    except Exception as e:\n",
    "        \n",
    "        logger.error(e)\n",
    "        \n",
    "        continue\n",
    "        "
   ]
  },
  {
   "cell_type": "code",
   "execution_count": 12,
   "metadata": {},
   "outputs": [],
   "source": [
    "dettaglio_list = [(x.get_attribute('href'), x.get_attribute('innerHTML')) \n",
    "                  for x in table_node.find_elements_by_tag_name('a') \n",
    "                  if x.get_attribute('href').find('dettaglio_partite') > 0]"
   ]
  },
  {
   "cell_type": "code",
   "execution_count": 13,
   "metadata": {},
   "outputs": [],
   "source": [
    "driver.get(dettaglio_list[0][0])"
   ]
  },
  {
   "cell_type": "code",
   "execution_count": 14,
   "metadata": {},
   "outputs": [],
   "source": [
    "dettaglio_table = driver.find_elements_by_class_name('table-responsive')"
   ]
  },
  {
   "cell_type": "code",
   "execution_count": 29,
   "metadata": {},
   "outputs": [],
   "source": [
    "dettaglio_df = pd.read_html(dettaglio_table[1].get_attribute('innerHTML'))[0]"
   ]
  },
  {
   "cell_type": "code",
   "execution_count": 32,
   "metadata": {},
   "outputs": [
    {
     "data": {
      "text/html": [
       "<div>\n",
       "<style scoped>\n",
       "    .dataframe tbody tr th:only-of-type {\n",
       "        vertical-align: middle;\n",
       "    }\n",
       "\n",
       "    .dataframe tbody tr th {\n",
       "        vertical-align: top;\n",
       "    }\n",
       "\n",
       "    .dataframe thead th {\n",
       "        text-align: right;\n",
       "    }\n",
       "</style>\n",
       "<table border=\"1\" class=\"dataframe\">\n",
       "  <thead>\n",
       "    <tr style=\"text-align: right;\">\n",
       "      <th></th>\n",
       "      <th>0</th>\n",
       "      <th>1</th>\n",
       "      <th>2</th>\n",
       "      <th>3</th>\n",
       "      <th>4</th>\n",
       "    </tr>\n",
       "  </thead>\n",
       "  <tbody>\n",
       "    <tr>\n",
       "      <th>0</th>\n",
       "      <td>30-11-2020</td>\n",
       "      <td>Premier League</td>\n",
       "      <td>Taraz - K. Almaty</td>\n",
       "      <td>1 - 0</td>\n",
       "      <td>(0 - 0)</td>\n",
       "    </tr>\n",
       "    <tr>\n",
       "      <th>1</th>\n",
       "      <td>27-11-2020</td>\n",
       "      <td>Premier League</td>\n",
       "      <td>Tobol - Taraz</td>\n",
       "      <td>2 - 0</td>\n",
       "      <td>(1 - 0)</td>\n",
       "    </tr>\n",
       "    <tr>\n",
       "      <th>2</th>\n",
       "      <td>24-11-2020</td>\n",
       "      <td>Premier League</td>\n",
       "      <td>Taraz - Kaspij Aktau</td>\n",
       "      <td>0 - 1</td>\n",
       "      <td>(0 - 1)</td>\n",
       "    </tr>\n",
       "    <tr>\n",
       "      <th>3</th>\n",
       "      <td>21-11-2020</td>\n",
       "      <td>Premier League</td>\n",
       "      <td>Zhetysu Taldykorgan - Taraz</td>\n",
       "      <td>0 - 1</td>\n",
       "      <td>(0 - 1)</td>\n",
       "    </tr>\n",
       "    <tr>\n",
       "      <th>4</th>\n",
       "      <td>08-11-2020</td>\n",
       "      <td>Premier League</td>\n",
       "      <td>Taraz - Shakhtar Karagandy</td>\n",
       "      <td>2 - 4</td>\n",
       "      <td>(0 - 3)</td>\n",
       "    </tr>\n",
       "  </tbody>\n",
       "</table>\n",
       "</div>"
      ],
      "text/plain": [
       "            0               1                            2      3        4\n",
       "0  30-11-2020  Premier League            Taraz - K. Almaty  1 - 0  (0 - 0)\n",
       "1  27-11-2020  Premier League                Tobol - Taraz  2 - 0  (1 - 0)\n",
       "2  24-11-2020  Premier League         Taraz - Kaspij Aktau  0 - 1  (0 - 1)\n",
       "3  21-11-2020  Premier League  Zhetysu Taldykorgan - Taraz  0 - 1  (0 - 1)\n",
       "4  08-11-2020  Premier League   Taraz - Shakhtar Karagandy  2 - 4  (0 - 3)"
      ]
     },
     "execution_count": 32,
     "metadata": {},
     "output_type": "execute_result"
    }
   ],
   "source": [
    "dettaglio_df.head()"
   ]
  },
  {
   "cell_type": "code",
   "execution_count": 35,
   "metadata": {},
   "outputs": [
    {
     "name": "stdout",
     "output_type": "stream",
     "text": [
      "(0, 1)\n",
      "(1, 2)\n",
      "(2, 3)\n"
     ]
    }
   ],
   "source": [
    "for i in enumerate([1,2,3]):\n",
    "    \n",
    "    print(i)"
   ]
  },
  {
   "cell_type": "code",
   "execution_count": 33,
   "metadata": {},
   "outputs": [
    {
     "data": {
      "text/plain": [
       "[['Taraz', 'K. Almaty'],\n",
       " ['Tobol', 'Taraz'],\n",
       " ['Taraz', 'Kaspij Aktau'],\n",
       " ['Zhetysu Taldykorgan', 'Taraz'],\n",
       " ['Taraz', 'Shakhtar Karagandy'],\n",
       " ['Taraz', 'FC Astana'],\n",
       " ['Okzhetpes', 'Taraz'],\n",
       " ['Kyzylzhar', 'Taraz'],\n",
       " ['Taraz', 'Kaisar Kyzylorda'],\n",
       " ['Ordabasy', 'Taraz'],\n",
       " ['Taraz', 'Tobol'],\n",
       " ['Kaspij Aktau', 'Taraz'],\n",
       " ['Taraz', 'Zhetysu Taldykorgan'],\n",
       " ['Shakhtar Karagandy', 'Taraz'],\n",
       " ['FC Astana', 'Taraz'],\n",
       " ['Taraz', 'Okzhetpes'],\n",
       " ['Taraz', 'Kyzylzhar'],\n",
       " ['Kaisar Kyzylorda', 'Taraz'],\n",
       " ['Taraz', 'Ordabasy'],\n",
       " ['K. Almaty', 'Taraz']]"
      ]
     },
     "execution_count": 33,
     "metadata": {},
     "output_type": "execute_result"
    }
   ],
   "source": [
    "dettaglio_df[2].apply(lambda x: x.split(' - ')).to_list()"
   ]
  },
  {
   "cell_type": "code",
   "execution_count": 28,
   "metadata": {},
   "outputs": [
    {
     "data": {
      "text/plain": [
       "0     [1, 0]\n",
       "1     [2, 0]\n",
       "2     [0, 1]\n",
       "3     [0, 1]\n",
       "4     [2, 4]\n",
       "5     [1, 0]\n",
       "6     [0, 0]\n",
       "7     [1, 0]\n",
       "8     [2, 2]\n",
       "9     [1, 1]\n",
       "10    [0, 0]\n",
       "11    [0, 2]\n",
       "12    [0, 2]\n",
       "13    [1, 1]\n",
       "14    [1, 1]\n",
       "15    [2, 3]\n",
       "16    [0, 0]\n",
       "17    [1, 1]\n",
       "18    [3, 2]\n",
       "19    [2, 1]\n",
       "Name: 3, dtype: object"
      ]
     },
     "execution_count": 28,
     "metadata": {},
     "output_type": "execute_result"
    }
   ],
   "source": [
    "dettaglio_df"
   ]
  },
  {
   "cell_type": "code",
   "execution_count": null,
   "metadata": {},
   "outputs": [],
   "source": [
    "for item in dettaglio_list:\n",
    "    \n",
    "    \n",
    "    \n",
    "    \n",
    "    "
   ]
  },
  {
   "cell_type": "code",
   "execution_count": 90,
   "metadata": {},
   "outputs": [],
   "source": [
    "driver.close()"
   ]
  }
 ],
 "metadata": {
  "kernelspec": {
   "display_name": "Python 3",
   "language": "python",
   "name": "python3"
  },
  "language_info": {
   "codemirror_mode": {
    "name": "ipython",
    "version": 3
   },
   "file_extension": ".py",
   "mimetype": "text/x-python",
   "name": "python",
   "nbconvert_exporter": "python",
   "pygments_lexer": "ipython3",
   "version": "3.6.9"
  }
 },
 "nbformat": 4,
 "nbformat_minor": 4
}
